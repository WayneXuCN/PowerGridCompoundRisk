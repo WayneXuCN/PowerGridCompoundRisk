{
 "cells": [
  {
   "metadata": {
    "ExecuteTime": {
     "end_time": "2025-03-24T12:46:47.355457Z",
     "start_time": "2025-03-24T12:46:47.346600Z"
    }
   },
   "cell_type": "code",
   "source": [
    "import igraph as ig\n",
    "import matplotlib.pyplot as plt\n",
    "import numpy as np\n",
    "import pandas as pd\n",
    "import torch\n",
    "from sklearn.preprocessing import MinMaxScaler\n",
    "import torch\n",
    "import torch.nn as nn\n",
    "import torch.nn.functional as F\n",
    "from torch_geometric.nn import MessagePassing\n",
    "from scipy.integrate import odeint\n",
    "from torch_geometric.data import Data\n",
    "from torch_geometric.nn import GCNConv\n",
    "\n",
    "# 设置随机种子\n",
    "np.random.seed(42)\n",
    "torch.manual_seed(42)\n",
    "# 设置中文字体为 Mac 系统中文字体\n",
    "plt.rcParams[\"font.sans-serif\"] = [\"Arial Unicode MS\"]\n",
    "plt.rcParams[\"axes.unicode_minus\"] = False"
   ],
   "outputs": [],
   "execution_count": 7
  },
  {
   "metadata": {},
   "cell_type": "markdown",
   "source": "## 1. 数据预处理"
  },
  {
   "metadata": {
    "ExecuteTime": {
     "end_time": "2025-03-24T12:46:47.991683Z",
     "start_time": "2025-03-24T12:46:47.970082Z"
    }
   },
   "cell_type": "code",
   "source": [
    "## 1. 数据预处理\n",
    "# 读取网络数据\n",
    "edge_file = \"data/raw/european/powergridEU_E.csv\"\n",
    "coord_file = \"data/raw/european/powergridEU_V.csv\"\n",
    "\n",
    "# 读取数据\n",
    "edges = pd.read_csv(edge_file, header=None).values.tolist()\n",
    "coords = pd.read_csv(coord_file, header=None)  # 节点坐标数据\n",
    "\n",
    "# 创建无向图\n",
    "g = ig.Graph.TupleList(edges, directed=False)\n",
    "g.vs[\"name\"] = [int(v) for v in g.vs[\"name\"]]  # 节点名转为整数"
   ],
   "outputs": [],
   "execution_count": 8
  },
  {
   "metadata": {
    "ExecuteTime": {
     "end_time": "2025-03-24T12:46:48.772058Z",
     "start_time": "2025-03-24T12:46:48.657027Z"
    }
   },
   "cell_type": "code",
   "source": [
    "# 创建节点ID到索引的映射以加速查找\n",
    "name_to_index = {v[\"name\"]: idx for idx, v in enumerate(g.vs)}\n",
    "# 批量添加坐标数据\n",
    "latitudes = [None] * g.vcount()\n",
    "longitudes = [None] * g.vcount()\n",
    "for _, row in coords.iterrows():\n",
    "    node_id = int(row[0])\n",
    "    if node_id in name_to_index:  # 防止数据不匹配导致的错误\n",
    "        idx = name_to_index[node_id]\n",
    "        latitudes[idx] = row[1]\n",
    "        longitudes[idx] = row[2]\n",
    "\n",
    "# 批量设置顶点属性\n",
    "g.vs[\"latitude\"] = latitudes\n",
    "g.vs[\"longitude\"] = longitudes\n",
    "\n",
    "# 检查数据完整性\n",
    "assert all(lat is not None for lat in latitudes), \"存在缺失的纬度数据\"\n",
    "assert all(lon is not None for lon in longitudes), \"存在缺失的经度数据\""
   ],
   "outputs": [],
   "execution_count": 9
  },
  {
   "metadata": {
    "ExecuteTime": {
     "end_time": "2025-03-24T12:46:58.997133Z",
     "start_time": "2025-03-24T12:46:49.470610Z"
    }
   },
   "cell_type": "code",
   "source": [
    "# 向量化的 Haversine 距离计算\n",
    "def haversine_distances(lats, lons):\n",
    "    \"\"\"\n",
    "    计算所有节点对之间的 Haversine 距离（km）\n",
    "    使用向量化操作提高效率\n",
    "    \"\"\"\n",
    "    # 转换为弧度\n",
    "    lats_rad = np.radians(lats)\n",
    "    lons_rad = np.radians(lons)\n",
    "    # 使用广播计算差值\n",
    "    lat_matrix = lats_rad[:, np.newaxis] - lats_rad[np.newaxis, :]\n",
    "    lon_matrix = lons_rad[:, np.newaxis] - lons_rad[np.newaxis, :]\n",
    "    # Haversine 公式\n",
    "    a = np.sin(lat_matrix / 2) ** 2 + np.cos(lats_rad[:, np.newaxis]) * np.cos(lats_rad[np.newaxis, :]) * np.sin(\n",
    "        lon_matrix / 2) ** 2\n",
    "    c = 2 * np.arcsin(np.sqrt(np.clip(a, 0, 1)))  # 添加 clip 避免数值误差\n",
    "\n",
    "    # 地球半径 (km)\n",
    "    R = 6371\n",
    "    return R * c\n",
    "\n",
    "# 计算节点间地理距离矩阵（用于动态传播因子）\n",
    "distances = haversine_distances(np.array(latitudes), np.array(longitudes))"
   ],
   "outputs": [],
   "execution_count": 10
  },
  {
   "metadata": {
    "ExecuteTime": {
     "end_time": "2025-03-24T12:47:02.115868Z",
     "start_time": "2025-03-24T12:47:02.081463Z"
    }
   },
   "cell_type": "code",
   "source": [
    "from itertools import combinations\n",
    "\n",
    "from scipy.sparse import coo_matrix, csr_matrix, lil_matrix\n",
    "\n",
    "# 一阶邻接矩阵 A（稀疏格式）\n",
    "edges = np.array(g.get_edgelist())\n",
    "n_nodes, n_edges = g.vcount(), len(edges)\n",
    "adj_sparse = coo_matrix((np.ones(len(edges)), (edges[:, 0], edges[:, 1])),\n",
    "                    shape=(g.vcount(), g.vcount())).tocsr()\n",
    "edge_dict = {tuple(sorted(e)): idx for idx, e in enumerate(edges)}"
   ],
   "outputs": [],
   "execution_count": 12
  },
  {
   "metadata": {
    "ExecuteTime": {
     "end_time": "2025-03-24T12:47:02.922415Z",
     "start_time": "2025-03-24T12:47:02.884606Z"
    }
   },
   "cell_type": "code",
   "source": [
    "# 构建 B1\n",
    "B1 = lil_matrix((n_nodes, n_edges)) # lil_matrix 更适合动态插入\n",
    "for idx, (i, j) in enumerate(edges):\n",
    "    B1[i, idx] = 1  # 起点+1\n",
    "    # B1[j, idx] = -1  # 终点-1\n",
    "    B1[j, idx] = 1  # 无向边：两个节点均标记为+1\n",
    "B1 = B1.tocsr()  # 转换为CSR用于后续计算"
   ],
   "outputs": [],
   "execution_count": 13
  },
  {
   "metadata": {
    "ExecuteTime": {
     "end_time": "2025-03-24T12:47:04.679848Z",
     "start_time": "2025-03-24T12:47:04.655411Z"
    }
   },
   "cell_type": "code",
   "source": [
    "# 检测所有3节点环路\n",
    "triangles = []\n",
    "for node in g.vs:\n",
    "    neighbors = node.neighbors()\n",
    "    for pair in combinations(neighbors, 2):\n",
    "        if g.are_adjacent(pair[0], pair[1]):\n",
    "            triangle = sorted([node.index, pair[0].index, pair[1].index])\n",
    "            triangles.append(tuple(triangle))\n",
    "triangles = list(set(triangles))  # 去重"
   ],
   "outputs": [],
   "execution_count": 14
  },
  {
   "metadata": {
    "ExecuteTime": {
     "end_time": "2025-03-24T12:47:06.702864Z",
     "start_time": "2025-03-24T12:47:06.690711Z"
    }
   },
   "cell_type": "code",
   "source": [
    "# 构建 B2（统一顺时针定向）\n",
    "B2 = lil_matrix((n_edges, len(triangles)))\n",
    "for t_idx, triangle in enumerate(triangles):\n",
    "    # 定义顺时针边顺序：A→B, B→C, C→A\n",
    "    ordered_edges = [\n",
    "        tuple(sorted((triangle[0], triangle[1]))),\n",
    "        tuple(sorted((triangle[1], triangle[2]))),\n",
    "        tuple(sorted((triangle[2], triangle[0])))\n",
    "    ]\n",
    "    for i, edge in enumerate(ordered_edges):\n",
    "        if edge in edge_dict:\n",
    "            B2[edge_dict[edge], t_idx] = 1 if i == 0 else -1\n",
    "B2 = B2.tocsr()"
   ],
   "outputs": [],
   "execution_count": 15
  },
  {
   "metadata": {
    "ExecuteTime": {
     "end_time": "2025-03-24T12:47:08.998273Z",
     "start_time": "2025-03-24T12:47:07.708868Z"
    }
   },
   "cell_type": "code",
   "source": [
    "# 计算 Hodge Laplacian\n",
    "L1 = B1.T @ B1 + B2 @ B2.T\n",
    "\n",
    "# 正确归一化（处理空矩阵）\n",
    "B2_squared = B2 @ B2.T\n",
    "if B2_squared.ndim == 0:\n",
    "    D1_diag = np.zeros(n_edges)  # 无三角形时度数为0\n",
    "else:\n",
    "    # 代码中通过 B2_squared.sum(axis=1) 计算 D1_diag，这实际是每行元素的总和 ，而非每个边的度数（即边参与的三角形数量）\n",
    "    # D1_diag = np.array(B2_squared.sum(axis=1)).flatten()  # 显式转换为密集数组\n",
    "    D1_diag = B2_squared.diagonal()  # 修正后的代码：提取对角线元素\n",
    "    D1_diag = np.maximum(D1_diag, 0)  # 强制非负，避免负值\n",
    "# 避免除零错误（添加1e-6偏移量）\n",
    "D1_diag_safe = D1_diag + 1e-6\n",
    "D1_inv_sqrt = csr_matrix(np.diag(1.0 / np.sqrt(D1_diag_safe)))  # 计算平方根倒数\n",
    "L1_tilde = D1_inv_sqrt @ L1 @ D1_inv_sqrt"
   ],
   "outputs": [],
   "execution_count": 16
  },
  {
   "metadata": {
    "ExecuteTime": {
     "end_time": "2025-03-24T13:00:07.964493Z",
     "start_time": "2025-03-24T13:00:07.957817Z"
    }
   },
   "cell_type": "code",
   "source": "print(B1.shape, B2.shape, L1.shape, L1_tilde.shape)",
   "outputs": [
    {
     "name": "stdout",
     "output_type": "stream",
     "text": [
      "(13478, 16922) (16922, 1213) (16922, 16922) (16922, 16922)\n"
     ]
    }
   ],
   "execution_count": 17
  },
  {
   "metadata": {
    "ExecuteTime": {
     "end_time": "2025-03-24T13:01:21.031201Z",
     "start_time": "2025-03-24T13:01:21.025728Z"
    }
   },
   "cell_type": "code",
   "source": [
    "print(f\"检测到 {len(triangles)} 个三角形环路\")\n",
    "print(f\"B2 shape: {B2.shape}\")\n",
    "print(f\"B2_squared shape: {B2_squared.shape}\")"
   ],
   "outputs": [
    {
     "name": "stdout",
     "output_type": "stream",
     "text": [
      "检测到 1213 个三角形环路\n",
      "B2 shape: (16922, 1213)\n",
      "B2_squared shape: (16922, 16922)\n"
     ]
    }
   ],
   "execution_count": 18
  },
  {
   "metadata": {
    "ExecuteTime": {
     "end_time": "2025-03-24T13:38:53.798648Z",
     "start_time": "2025-03-24T13:38:53.790753Z"
    }
   },
   "cell_type": "code",
   "source": [
    "class ClimateParams:\n",
    "    flood_max_lat = 55      # 洪水风险最大纬度\n",
    "    flood_scale = 10        # 洪水风险衰减系数\n",
    "    heat_min_lat = 40       # 热浪风险最小纬度\n",
    "    heat_scale = 15         # 热浪风险增长系数\n",
    "    drought_offset = 10     # 干旱经度偏移量\n",
    "    drought_scale = 20      # 干旱风险缩放系数\n",
    "\n",
    "latitudes = np.array(g.vs[\"latitude\"], dtype=np.float32)\n",
    "longitudes = np.array(g.vs[\"longitude\"], dtype=np.float32)\n",
    "# 洪水风险：纬度越低风险越高\n",
    "F = np.maximum(0, (ClimateParams.flood_max_lat - latitudes) / ClimateParams.flood_scale)\n",
    "# 热浪风险：纬度越高风险越高\n",
    "H = np.maximum(0, (latitudes - ClimateParams.heat_min_lat) / ClimateParams.heat_scale)\n",
    "# 干旱风险：经度越东风险越高\n",
    "D = np.maximum(0, (longitudes + ClimateParams.drought_offset) / ClimateParams.drought_scale)\n",
    "\"\"\"\n",
    "# 归一化风险值到 [0, 1] 范围\n",
    "scaler = MinMaxScaler()\n",
    "F = scaler.fit_transform(F.reshape(-1, 1)).flatten()\n",
    "H = scaler.fit_transform(H.reshape(-1, 1)).flatten()\n",
    "D = scaler.fit_transform(D.reshape(-1, 1)).flatten()\n",
    "\"\"\"\n",
    "X_feature = np.column_stack([latitudes, longitudes, F, H, D])\n",
    "print(f\"气候特征生成完成，形状：{X_feature.shape}\")"
   ],
   "outputs": [
    {
     "name": "stdout",
     "output_type": "stream",
     "text": [
      "气候特征生成完成，形状：(13478, 5)\n"
     ]
    }
   ],
   "execution_count": 24
  },
  {
   "metadata": {
    "ExecuteTime": {
     "end_time": "2025-03-24T12:27:00.817592Z",
     "start_time": "2025-03-24T12:27:00.769742Z"
    }
   },
   "cell_type": "code",
   "source": [
    "edges = np.array(g.get_edgelist())  # 边列表 (16922×2)\n",
    "print(edges.shape)\n",
    "edge_features = []\n",
    "for idx, (i, j) in enumerate(edges):\n",
    "    # 节点特征拼接\n",
    "    node_features = np.concatenate([X_feature[i], X_feature[j]])\n",
    "    # 边的距离（仅相邻节点）\n",
    "    distance = distances[i, j]\n",
    "    # 合并为边特征\n",
    "    edge_feature = np.hstack([node_features, distance])\n",
    "    edge_features.append(edge_feature)\n",
    "edge_features = np.array(edge_features, dtype=np.float32)\n",
    "print(f\"边特征生成完成，形状：{edge_features.shape}（应为 16922×11）\")"
   ],
   "outputs": [
    {
     "name": "stdout",
     "output_type": "stream",
     "text": [
      "(16922, 2)\n",
      "边特征生成完成，形状：(16922, 11)（应为 16922×11）\n"
     ]
    }
   ],
   "execution_count": 47
  },
  {
   "metadata": {},
   "cell_type": "markdown",
   "source": "##  2. 高阶图神经网络"
  },
  {
   "metadata": {
    "ExecuteTime": {
     "end_time": "2025-03-24T13:38:56.553845Z",
     "start_time": "2025-03-24T13:38:56.549658Z"
    }
   },
   "cell_type": "code",
   "source": [
    "import numpy as np\n",
    "import scipy.sparse as sp\n",
    "import torch\n",
    "import torch.nn as nn\n",
    "import torch.optim as optim\n",
    "from torch.nn.functional import relu, sigmoid\n",
    "\n",
    "class HoSC(nn.Module):\n",
    "    \"\"\"HodgeSimplexConv\"\"\"\n",
    "    def __init__(self, input_dim, hidden_dim, output_dim, L1_tilde):\n",
    "        super(HoSC, self).__init__()\n",
    "        self.L1_tilde = L1_tilde  # 归一化Hodge Laplacian (稀疏矩阵)\n",
    "        self.fc1 = nn.Linear(input_dim, hidden_dim)\n",
    "        self.fc2 = nn.Linear(hidden_dim, output_dim)\n",
    "\n",
    "    def forward(self, Z):\n",
    "        # 将边特征转换为PyTorch稀疏张量\n",
    "        Z = torch.FloatTensor(Z).unsqueeze(-1)  # (n_edges, input_dim, 1)\n",
    "\n",
    "        # 第一层单纯形卷积\n",
    "        Z1 = self.L1_tilde @ Z  # 使用稀疏矩阵乘法\n",
    "        Z1 = self.fc1(Z1.squeeze(-1))\n",
    "        Z1 = relu(Z1)\n",
    "\n",
    "        # 第二层单纯形卷积\n",
    "        Z2 = self.L1_tilde @ Z1.unsqueeze(-1)\n",
    "        Z2 = self.fc2(Z2.squeeze(-1))\n",
    "\n",
    "        return Z2  # 输出边级嵌入 (n_edges, output_dim)\n",
    "\n",
    "\n",
    "class NodeFailurePredictor(nn.Module):\n",
    "    def __init__(self, hoc_model, B1_abs):\n",
    "        super(NodeFailurePredictor, self).__init__()\n",
    "        self.hoc_model = hoc_model\n",
    "        self.B1_abs = B1_abs  # 边界矩阵的绝对值（稀疏矩阵）\n",
    "\n",
    "    def forward(self, Z_edge):\n",
    "        # 计算节点失效概率\n",
    "        edge_embeddings = self.hoc_model(Z_edge)  # (n_edges, output_dim)\n",
    "        node_logits = self.B1_abs.T @ edge_embeddings  # (n_nodes, output_dim)\n",
    "        node_prob = sigmoid(node_logits.sum(axis=1))  # 聚合边特征并压缩到[0,1]\n",
    "        return node_prob"
   ],
   "outputs": [],
   "execution_count": 25
  },
  {
   "metadata": {
    "ExecuteTime": {
     "end_time": "2025-03-24T13:56:04.945655Z",
     "start_time": "2025-03-24T13:56:04.938737Z"
    }
   },
   "cell_type": "code",
   "source": [
    "def generate_edge_features(disaster_type, distances, edges, F, H, D):\n",
    "    \"\"\"根据灾害类型生成边特征\"\"\"\n",
    "    n_edges = len(edges)\n",
    "    edge_features = []\n",
    "\n",
    "    if disaster_type == \"flood\":\n",
    "        risk_coupling = F\n",
    "    elif disaster_type == \"heatwave\":\n",
    "        risk_coupling = H\n",
    "    elif disaster_type == \"drought\":\n",
    "        risk_coupling = D\n",
    "    else:\n",
    "        raise ValueError(\"Unsupported disaster type\")\n",
    "\n",
    "    # 构建边特征矩阵\n",
    "    for u, v in edges:\n",
    "        distance = distances[u, v]\n",
    "        risk_sum = risk_coupling[u] + risk_coupling[v]\n",
    "        edge_features.append([distance, risk_sum])\n",
    "\n",
    "    return np.array(edge_features, dtype=np.float32)"
   ],
   "outputs": [],
   "execution_count": 41
  },
  {
   "metadata": {
    "ExecuteTime": {
     "end_time": "2025-03-24T14:03:59.861774Z",
     "start_time": "2025-03-24T14:03:59.855081Z"
    }
   },
   "cell_type": "code",
   "source": [
    "# 超参数设置\n",
    "input_dim = 2  # 地理距离 + 灾害风险\n",
    "hidden_dim = 16\n",
    "output_dim = 8\n",
    "learning_rate = 0.01\n",
    "weight_decay = 1e-4\n",
    "epochs = 100"
   ],
   "outputs": [],
   "execution_count": 47
  },
  {
   "metadata": {
    "ExecuteTime": {
     "end_time": "2025-03-24T14:04:15.432212Z",
     "start_time": "2025-03-24T14:04:15.395973Z"
    }
   },
   "cell_type": "code",
   "source": [
    "# 预处理：将B1转换为绝对值稀疏矩阵\n",
    "B1_abs = abs(B1).tocsr()\n",
    "\n",
    "# 初始化模型\n",
    "hoc_model = HoSC(input_dim, hidden_dim, output_dim, L1_tilde)\n",
    "predictor = NodeFailurePredictor(hoc_model, abs(B1).tocsr())\n",
    "optimizer = optim.Adam(predictor.parameters(), lr=learning_rate)\n",
    "criterion = nn.BCELoss()"
   ],
   "outputs": [],
   "execution_count": 48
  },
  {
   "metadata": {
    "ExecuteTime": {
     "end_time": "2025-03-24T14:06:17.989791Z",
     "start_time": "2025-03-24T14:06:17.688072Z"
    }
   },
   "cell_type": "code",
   "source": [
    "# 生成训练数据（以洪水为例）\n",
    "def train(disaster_type):\n",
    "    edge_features = generate_edge_features(disaster_type, distances, edges, F, H, D)\n",
    "\n",
    "    # 创建标签（假设纬度<45的节点中10%失效）\n",
    "    labels = np.zeros(len(g.vs))\n",
    "    southern_nodes = np.where(latitudes < 45)[0]\n",
    "    failed_nodes = np.random.choice(southern_nodes, size=int(0.1*len(southern_nodes)), replace=False)\n",
    "    labels[failed_nodes] = 1\n",
    "    labels = torch.FloatTensor(labels)\n",
    "\n",
    "    for epoch in range(epochs):\n",
    "        optimizer.zero_grad()\n",
    "        prob = predictor(torch.FloatTensor(edge_features))\n",
    "        loss = criterion(prob, labels)\n",
    "        loss.backward()\n",
    "        optimizer.step()\n",
    "\n",
    "        if epoch % 10 == 0:\n",
    "            print(f\"Epoch {epoch}, Loss: {loss.item()}\")\n",
    "\n",
    "\n",
    "# 运行训练\n",
    "train(\"flood\") # 或 \"heatwave\", \"drought\""
   ],
   "outputs": [
    {
     "ename": "ValueError",
     "evalue": "could not interpret dimensions",
     "output_type": "error",
     "traceback": [
      "\u001B[31m---------------------------------------------------------------------------\u001B[39m",
      "\u001B[31mValueError\u001B[39m                                Traceback (most recent call last)",
      "\u001B[36mCell\u001B[39m\u001B[36m \u001B[39m\u001B[32mIn[50]\u001B[39m\u001B[32m, line 24\u001B[39m\n\u001B[32m     20\u001B[39m             \u001B[38;5;28mprint\u001B[39m(\u001B[33mf\u001B[39m\u001B[33m\"\u001B[39m\u001B[33mEpoch \u001B[39m\u001B[38;5;132;01m{\u001B[39;00mepoch\u001B[38;5;132;01m}\u001B[39;00m\u001B[33m, Loss: \u001B[39m\u001B[38;5;132;01m{\u001B[39;00mloss.item()\u001B[38;5;132;01m}\u001B[39;00m\u001B[33m\"\u001B[39m)\n\u001B[32m     23\u001B[39m \u001B[38;5;66;03m# 运行训练\u001B[39;00m\n\u001B[32m---> \u001B[39m\u001B[32m24\u001B[39m \u001B[43mtrain\u001B[49m\u001B[43m(\u001B[49m\u001B[33;43m\"\u001B[39;49m\u001B[33;43mflood\u001B[39;49m\u001B[33;43m\"\u001B[39;49m\u001B[43m)\u001B[49m \u001B[38;5;66;03m# 或 \"heatwave\", \"drought\"\u001B[39;00m\n",
      "\u001B[36mCell\u001B[39m\u001B[36m \u001B[39m\u001B[32mIn[50]\u001B[39m\u001B[32m, line 14\u001B[39m, in \u001B[36mtrain\u001B[39m\u001B[34m(disaster_type)\u001B[39m\n\u001B[32m     12\u001B[39m \u001B[38;5;28;01mfor\u001B[39;00m epoch \u001B[38;5;129;01min\u001B[39;00m \u001B[38;5;28mrange\u001B[39m(epochs):\n\u001B[32m     13\u001B[39m     optimizer.zero_grad()\n\u001B[32m---> \u001B[39m\u001B[32m14\u001B[39m     prob = \u001B[43mpredictor\u001B[49m\u001B[43m(\u001B[49m\u001B[43mtorch\u001B[49m\u001B[43m.\u001B[49m\u001B[43mFloatTensor\u001B[49m\u001B[43m(\u001B[49m\u001B[43medge_features\u001B[49m\u001B[43m)\u001B[49m\u001B[43m)\u001B[49m\n\u001B[32m     15\u001B[39m     loss = criterion(prob, labels)\n\u001B[32m     16\u001B[39m     loss.backward()\n",
      "\u001B[36mFile \u001B[39m\u001B[32m/Volumes/Work/DevSpace/PowerGridCompoundRisk/.venv/lib/python3.12/site-packages/torch/nn/modules/module.py:1739\u001B[39m, in \u001B[36mModule._wrapped_call_impl\u001B[39m\u001B[34m(self, *args, **kwargs)\u001B[39m\n\u001B[32m   1737\u001B[39m     \u001B[38;5;28;01mreturn\u001B[39;00m \u001B[38;5;28mself\u001B[39m._compiled_call_impl(*args, **kwargs)  \u001B[38;5;66;03m# type: ignore[misc]\u001B[39;00m\n\u001B[32m   1738\u001B[39m \u001B[38;5;28;01melse\u001B[39;00m:\n\u001B[32m-> \u001B[39m\u001B[32m1739\u001B[39m     \u001B[38;5;28;01mreturn\u001B[39;00m \u001B[38;5;28;43mself\u001B[39;49m\u001B[43m.\u001B[49m\u001B[43m_call_impl\u001B[49m\u001B[43m(\u001B[49m\u001B[43m*\u001B[49m\u001B[43margs\u001B[49m\u001B[43m,\u001B[49m\u001B[43m \u001B[49m\u001B[43m*\u001B[49m\u001B[43m*\u001B[49m\u001B[43mkwargs\u001B[49m\u001B[43m)\u001B[49m\n",
      "\u001B[36mFile \u001B[39m\u001B[32m/Volumes/Work/DevSpace/PowerGridCompoundRisk/.venv/lib/python3.12/site-packages/torch/nn/modules/module.py:1750\u001B[39m, in \u001B[36mModule._call_impl\u001B[39m\u001B[34m(self, *args, **kwargs)\u001B[39m\n\u001B[32m   1745\u001B[39m \u001B[38;5;66;03m# If we don't have any hooks, we want to skip the rest of the logic in\u001B[39;00m\n\u001B[32m   1746\u001B[39m \u001B[38;5;66;03m# this function, and just call forward.\u001B[39;00m\n\u001B[32m   1747\u001B[39m \u001B[38;5;28;01mif\u001B[39;00m \u001B[38;5;129;01mnot\u001B[39;00m (\u001B[38;5;28mself\u001B[39m._backward_hooks \u001B[38;5;129;01mor\u001B[39;00m \u001B[38;5;28mself\u001B[39m._backward_pre_hooks \u001B[38;5;129;01mor\u001B[39;00m \u001B[38;5;28mself\u001B[39m._forward_hooks \u001B[38;5;129;01mor\u001B[39;00m \u001B[38;5;28mself\u001B[39m._forward_pre_hooks\n\u001B[32m   1748\u001B[39m         \u001B[38;5;129;01mor\u001B[39;00m _global_backward_pre_hooks \u001B[38;5;129;01mor\u001B[39;00m _global_backward_hooks\n\u001B[32m   1749\u001B[39m         \u001B[38;5;129;01mor\u001B[39;00m _global_forward_hooks \u001B[38;5;129;01mor\u001B[39;00m _global_forward_pre_hooks):\n\u001B[32m-> \u001B[39m\u001B[32m1750\u001B[39m     \u001B[38;5;28;01mreturn\u001B[39;00m \u001B[43mforward_call\u001B[49m\u001B[43m(\u001B[49m\u001B[43m*\u001B[49m\u001B[43margs\u001B[49m\u001B[43m,\u001B[49m\u001B[43m \u001B[49m\u001B[43m*\u001B[49m\u001B[43m*\u001B[49m\u001B[43mkwargs\u001B[49m\u001B[43m)\u001B[49m\n\u001B[32m   1752\u001B[39m result = \u001B[38;5;28;01mNone\u001B[39;00m\n\u001B[32m   1753\u001B[39m called_always_called_hooks = \u001B[38;5;28mset\u001B[39m()\n",
      "\u001B[36mCell\u001B[39m\u001B[36m \u001B[39m\u001B[32mIn[25]\u001B[39m\u001B[32m, line 40\u001B[39m, in \u001B[36mNodeFailurePredictor.forward\u001B[39m\u001B[34m(self, Z_edge)\u001B[39m\n\u001B[32m     38\u001B[39m \u001B[38;5;28;01mdef\u001B[39;00m\u001B[38;5;250m \u001B[39m\u001B[34mforward\u001B[39m(\u001B[38;5;28mself\u001B[39m, Z_edge):\n\u001B[32m     39\u001B[39m     \u001B[38;5;66;03m# 计算节点失效概率\u001B[39;00m\n\u001B[32m---> \u001B[39m\u001B[32m40\u001B[39m     edge_embeddings = \u001B[38;5;28;43mself\u001B[39;49m\u001B[43m.\u001B[49m\u001B[43mhoc_model\u001B[49m\u001B[43m(\u001B[49m\u001B[43mZ_edge\u001B[49m\u001B[43m)\u001B[49m  \u001B[38;5;66;03m# (n_edges, output_dim)\u001B[39;00m\n\u001B[32m     41\u001B[39m     node_logits = \u001B[38;5;28mself\u001B[39m.B1_abs.T @ edge_embeddings  \u001B[38;5;66;03m# (n_nodes, output_dim)\u001B[39;00m\n\u001B[32m     42\u001B[39m     node_prob = sigmoid(node_logits.sum(axis=\u001B[32m1\u001B[39m))  \u001B[38;5;66;03m# 聚合边特征并压缩到[0,1]\u001B[39;00m\n",
      "\u001B[36mFile \u001B[39m\u001B[32m/Volumes/Work/DevSpace/PowerGridCompoundRisk/.venv/lib/python3.12/site-packages/torch/nn/modules/module.py:1739\u001B[39m, in \u001B[36mModule._wrapped_call_impl\u001B[39m\u001B[34m(self, *args, **kwargs)\u001B[39m\n\u001B[32m   1737\u001B[39m     \u001B[38;5;28;01mreturn\u001B[39;00m \u001B[38;5;28mself\u001B[39m._compiled_call_impl(*args, **kwargs)  \u001B[38;5;66;03m# type: ignore[misc]\u001B[39;00m\n\u001B[32m   1738\u001B[39m \u001B[38;5;28;01melse\u001B[39;00m:\n\u001B[32m-> \u001B[39m\u001B[32m1739\u001B[39m     \u001B[38;5;28;01mreturn\u001B[39;00m \u001B[38;5;28;43mself\u001B[39;49m\u001B[43m.\u001B[49m\u001B[43m_call_impl\u001B[49m\u001B[43m(\u001B[49m\u001B[43m*\u001B[49m\u001B[43margs\u001B[49m\u001B[43m,\u001B[49m\u001B[43m \u001B[49m\u001B[43m*\u001B[49m\u001B[43m*\u001B[49m\u001B[43mkwargs\u001B[49m\u001B[43m)\u001B[49m\n",
      "\u001B[36mFile \u001B[39m\u001B[32m/Volumes/Work/DevSpace/PowerGridCompoundRisk/.venv/lib/python3.12/site-packages/torch/nn/modules/module.py:1750\u001B[39m, in \u001B[36mModule._call_impl\u001B[39m\u001B[34m(self, *args, **kwargs)\u001B[39m\n\u001B[32m   1745\u001B[39m \u001B[38;5;66;03m# If we don't have any hooks, we want to skip the rest of the logic in\u001B[39;00m\n\u001B[32m   1746\u001B[39m \u001B[38;5;66;03m# this function, and just call forward.\u001B[39;00m\n\u001B[32m   1747\u001B[39m \u001B[38;5;28;01mif\u001B[39;00m \u001B[38;5;129;01mnot\u001B[39;00m (\u001B[38;5;28mself\u001B[39m._backward_hooks \u001B[38;5;129;01mor\u001B[39;00m \u001B[38;5;28mself\u001B[39m._backward_pre_hooks \u001B[38;5;129;01mor\u001B[39;00m \u001B[38;5;28mself\u001B[39m._forward_hooks \u001B[38;5;129;01mor\u001B[39;00m \u001B[38;5;28mself\u001B[39m._forward_pre_hooks\n\u001B[32m   1748\u001B[39m         \u001B[38;5;129;01mor\u001B[39;00m _global_backward_pre_hooks \u001B[38;5;129;01mor\u001B[39;00m _global_backward_hooks\n\u001B[32m   1749\u001B[39m         \u001B[38;5;129;01mor\u001B[39;00m _global_forward_hooks \u001B[38;5;129;01mor\u001B[39;00m _global_forward_pre_hooks):\n\u001B[32m-> \u001B[39m\u001B[32m1750\u001B[39m     \u001B[38;5;28;01mreturn\u001B[39;00m \u001B[43mforward_call\u001B[49m\u001B[43m(\u001B[49m\u001B[43m*\u001B[49m\u001B[43margs\u001B[49m\u001B[43m,\u001B[49m\u001B[43m \u001B[49m\u001B[43m*\u001B[49m\u001B[43m*\u001B[49m\u001B[43mkwargs\u001B[49m\u001B[43m)\u001B[49m\n\u001B[32m   1752\u001B[39m result = \u001B[38;5;28;01mNone\u001B[39;00m\n\u001B[32m   1753\u001B[39m called_always_called_hooks = \u001B[38;5;28mset\u001B[39m()\n",
      "\u001B[36mCell\u001B[39m\u001B[36m \u001B[39m\u001B[32mIn[25]\u001B[39m\u001B[32m, line 21\u001B[39m, in \u001B[36mHoSC.forward\u001B[39m\u001B[34m(self, Z)\u001B[39m\n\u001B[32m     18\u001B[39m Z = torch.FloatTensor(Z).unsqueeze(-\u001B[32m1\u001B[39m)  \u001B[38;5;66;03m# (n_edges, input_dim, 1)\u001B[39;00m\n\u001B[32m     20\u001B[39m \u001B[38;5;66;03m# 第一层单纯形卷积\u001B[39;00m\n\u001B[32m---> \u001B[39m\u001B[32m21\u001B[39m Z1 = \u001B[38;5;28;43mself\u001B[39;49m\u001B[43m.\u001B[49m\u001B[43mL1_tilde\u001B[49m\u001B[43m \u001B[49m\u001B[43m@\u001B[49m\u001B[43m \u001B[49m\u001B[43mZ\u001B[49m  \u001B[38;5;66;03m# 使用稀疏矩阵乘法\u001B[39;00m\n\u001B[32m     22\u001B[39m Z1 = \u001B[38;5;28mself\u001B[39m.fc1(Z1.squeeze(-\u001B[32m1\u001B[39m))\n\u001B[32m     23\u001B[39m Z1 = relu(Z1)\n",
      "\u001B[36mFile \u001B[39m\u001B[32m/Volumes/Work/DevSpace/PowerGridCompoundRisk/.venv/lib/python3.12/site-packages/scipy/sparse/_base.py:732\u001B[39m, in \u001B[36m_spbase.__matmul__\u001B[39m\u001B[34m(self, other)\u001B[39m\n\u001B[32m    729\u001B[39m \u001B[38;5;28;01mif\u001B[39;00m isscalarlike(other):\n\u001B[32m    730\u001B[39m     \u001B[38;5;28;01mraise\u001B[39;00m \u001B[38;5;167;01mValueError\u001B[39;00m(\u001B[33m\"\u001B[39m\u001B[33mScalar operands are not allowed, \u001B[39m\u001B[33m\"\u001B[39m\n\u001B[32m    731\u001B[39m                      \u001B[33m\"\u001B[39m\u001B[33muse \u001B[39m\u001B[33m'\u001B[39m\u001B[33m*\u001B[39m\u001B[33m'\u001B[39m\u001B[33m instead\u001B[39m\u001B[33m\"\u001B[39m)\n\u001B[32m--> \u001B[39m\u001B[32m732\u001B[39m \u001B[38;5;28;01mreturn\u001B[39;00m \u001B[38;5;28;43mself\u001B[39;49m\u001B[43m.\u001B[49m\u001B[43m_matmul_dispatch\u001B[49m\u001B[43m(\u001B[49m\u001B[43mother\u001B[49m\u001B[43m)\u001B[49m\n",
      "\u001B[36mFile \u001B[39m\u001B[32m/Volumes/Work/DevSpace/PowerGridCompoundRisk/.venv/lib/python3.12/site-packages/scipy/sparse/_base.py:689\u001B[39m, in \u001B[36m_spbase._matmul_dispatch\u001B[39m\u001B[34m(self, other)\u001B[39m\n\u001B[32m    686\u001B[39m     \u001B[38;5;28;01mreturn\u001B[39;00m result\n\u001B[32m    688\u001B[39m \u001B[38;5;28;01melse\u001B[39;00m:\n\u001B[32m--> \u001B[39m\u001B[32m689\u001B[39m     \u001B[38;5;28;01mraise\u001B[39;00m \u001B[38;5;167;01mValueError\u001B[39;00m(\u001B[33m'\u001B[39m\u001B[33mcould not interpret dimensions\u001B[39m\u001B[33m'\u001B[39m)\n",
      "\u001B[31mValueError\u001B[39m: could not interpret dimensions"
     ]
    }
   ],
   "execution_count": 50
  },
  {
   "metadata": {},
   "cell_type": "code",
   "outputs": [],
   "execution_count": null,
   "source": ""
  }
 ],
 "metadata": {
  "kernelspec": {
   "display_name": ".venv",
   "language": "python",
   "name": "python3"
  },
  "language_info": {
   "codemirror_mode": {
    "name": "ipython",
    "version": 3
   },
   "file_extension": ".py",
   "mimetype": "text/x-python",
   "name": "python",
   "nbconvert_exporter": "python",
   "pygments_lexer": "ipython3",
   "version": "3.12.9"
  }
 },
 "nbformat": 4,
 "nbformat_minor": 2
}
