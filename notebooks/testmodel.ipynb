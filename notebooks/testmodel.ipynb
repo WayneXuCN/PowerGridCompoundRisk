{
 "cells": [
  {
   "cell_type": "code",
   "execution_count": null,
   "metadata": {},
   "outputs": [],
   "source": [
    "import igraph as ig\n",
    "import pandas as pd\n",
    "import numpy as np\n",
    "from pathlib import Path\n",
    "import scipy.sparse as sp\n",
    "from src.config import INTERIM_DATA_DIR"
   ]
  },
  {
   "cell_type": "code",
   "execution_count": null,
   "metadata": {},
   "outputs": [],
   "source": [
    "# 图结构位置\n",
    "electric_graph_path = INTERIM_DATA_DIR / \"Texas7k_Gas/electric_graph.pkl\"\n",
    "gas_graph_path = INTERIM_DATA_DIR / \"Texas7k_Gas/gas_graph.pkl\" \n",
    "merged_graph_path = INTERIM_DATA_DIR / \"Texas7k_Gas/merged_graph.pkl\"\n",
    "\n",
    "# 读取图结构\n",
    "electric_graph = ig.Graph.Read_Pickle(electric_graph_path)\n",
    "gas_graph = ig.Graph.Read_Pickle(gas_graph_path)\n",
    "g = ig.Graph.Read_Pickle(merged_graph_path)\n",
    "\n",
    "# 获取所有节点和边的信息\n",
    "nodes = g.vs  # 节点列表\n",
    "edges = g.es  # 边列表"
   ]
  },
  {
   "cell_type": "code",
   "execution_count": null,
   "metadata": {},
   "outputs": [],
   "source": [
    "distances_upper = sp.load_npz(INTERIM_DATA_DIR / \"Texas7k_Gas/distances.npz\").toarray()\n",
    "distances = distances_upper + distances_upper.T\n",
    "adj_sparse = sp.load_npz(INTERIM_DATA_DIR / \"Texas7k_Gas/adj_sparse.npz\")\n",
    "B1 = sp.load_npz(INTERIM_DATA_DIR / \"Texas7k_Gas/B1.npz\")\n",
    "L1_tilde = sp.load_npz(INTERIM_DATA_DIR / \"Texas7k_Gas/L1_tilde.npz\")\n",
    "X = np.load(INTERIM_DATA_DIR / \"Texas7k_Gas/X.npy\", allow_pickle=True)"
   ]
  },
  {
   "cell_type": "code",
   "execution_count": null,
   "metadata": {},
   "outputs": [],
   "source": [
    "# 通用特征（地理坐标）\n",
    "geo_features = np.array(list(zip(g.vs[\"latitude\"], g.vs[\"longitude\"])))\n",
    "# 电网特征\n",
    "# pd_i（电力需求），qd_i（电力需求的无功功率），total_gen_capacity_i（发电容量）\n",
    "elec_features = np.array(list(zip(g.vs[\"pd\"], g.vs[\"qd\"], g.vs[\"total_gen_capacity\"])))\n",
    "# 天然气特征\n",
    "# gas_load_p（天然气压力），gas_load_qf（天然气的流量）\n",
    "gas_features = np.array(list(zip(g.vs[\"gas_load_p\"], g.vs[\"gas_load_qf\"])))"
   ]
  }
 ],
 "metadata": {
  "kernelspec": {
   "display_name": ".venv",
   "language": "python",
   "name": "python3"
  },
  "language_info": {
   "codemirror_mode": {
    "name": "ipython",
    "version": 3
   },
   "file_extension": ".py",
   "mimetype": "text/x-python",
   "name": "python",
   "nbconvert_exporter": "python",
   "pygments_lexer": "ipython3"
  }
 },
 "nbformat": 4,
 "nbformat_minor": 2
}
