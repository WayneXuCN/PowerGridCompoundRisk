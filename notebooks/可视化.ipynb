{
 "cells": [
  {
   "cell_type": "code",
   "execution_count": 1,
   "id": "042efbd1",
   "metadata": {},
   "outputs": [],
   "source": [
    "import igraph as ig\n",
    "import pandas as pd\n",
    "import numpy as np\n",
    "from pathlib import Path\n",
    "import networkx as nx\n",
    "import scipy.sparse as sp\n",
    "from src.config import INTERIM_DATA_DIR\n",
    "import matplotlib.pyplot as plt"
   ]
  },
  {
   "cell_type": "code",
   "execution_count": null,
   "id": "5bda6e33",
   "metadata": {},
   "outputs": [],
   "source": [
    "# 节点距离矩阵，形状为为 N节点×N节点\n",
    "distances_upper = sp.load_npz(INTERIM_DATA_DIR / \"Texas7k_Gas/distances.npz\").toarray()\n",
    "distances = distances_upper + distances_upper.T\n",
    "# 邻接矩阵, 形状为 N节点×N节点\n",
    "adj_sparse = sp.load_npz(INTERIM_DATA_DIR / \"Texas7k_Gas/adj_sparse.npz\")\n",
    "print(f\"邻接矩阵形状: {adj_sparse.shape}\")\n",
    "# 一阶边界矩阵，节点到边的关联矩阵，形状为 N节点×N边\n",
    "B1 = sp.load_npz(INTERIM_DATA_DIR / \"Texas7k_Gas/B1.npz\")\n",
    "print(f\"一阶边界矩阵形状: {B1.shape}\")\n",
    "# 一阶拉普拉斯矩阵，形状为 N边×N边\n",
    "L1_tilde = sp.load_npz(INTERIM_DATA_DIR / \"Texas7k_Gas/L1_tilde.npz\")\n",
    "print(f\"一阶拉普拉斯矩阵形状: {L1_tilde.shape}\")"
   ]
  },
  {
   "cell_type": "code",
   "execution_count": null,
   "id": "644ac4ef",
   "metadata": {},
   "outputs": [],
   "source": [
    "# 电-气综合图结构位置\n",
    "Combined_Electric_Gas_graph_path = INTERIM_DATA_DIR / \"Texas7k_Gas/merged_graph.pkl\"\n",
    "\n",
    "# 读取图结构\n",
    "g = ig.Graph.Read_Pickle(Combined_Electric_Gas_graph_path)\n",
    "\n",
    "# 获取所有节点和边的信息\n",
    "nodes = g.vs  # 节点列表\n",
    "edges = g.es  # 边列表\n",
    "\n",
    "# 统计图结构信息\n",
    "print(f\"总节点数: {g.vcount()}\")\n",
    "print(f\"总边数: {g.ecount()}\")\n",
    "\n",
    "all_attributes = set()\n",
    "for v in g.vs:\n",
    "    all_attributes.update(v.attributes().keys())\n",
    "print(f\"节点属性: {all_attributes}\")"
   ]
  },
  {
   "cell_type": "code",
   "execution_count": null,
   "id": "caff50a0",
   "metadata": {},
   "outputs": [],
   "source": [
    "# igraph 转 networkx\n",
    "G_nx = ig.Graph.to_networkx(g)\n",
    "\n",
    "# 获取节点经纬度\n",
    "pos = {i: (g.vs[i]['longitude'], g.vs[i]['latitude']) for i in range(g.vcount())}\n",
    "\n",
    "plt.figure(figsize=(12, 10))\n",
    "nx.draw_networkx_nodes(G_nx, pos, node_size=2, node_color='blue', alpha=0.5)\n",
    "nx.draw_networkx_edges(G_nx, pos, width=0.2, alpha=0.2)\n",
    "plt.xlabel(\"longitude\")\n",
    "plt.ylabel(\"latitude\")\n",
    "plt.axis('equal')\n",
    "plt.show()"
   ]
  }
 ],
 "metadata": {
  "kernelspec": {
   "display_name": ".venv",
   "language": "python",
   "name": "python3"
  },
  "language_info": {
   "codemirror_mode": {
    "name": "ipython",
    "version": 3
   },
   "file_extension": ".py",
   "mimetype": "text/x-python",
   "name": "python",
   "nbconvert_exporter": "python",
   "pygments_lexer": "ipython3",
   "version": "3.12.9"
  }
 },
 "nbformat": 4,
 "nbformat_minor": 5
}
