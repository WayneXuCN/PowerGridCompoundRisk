{
 "cells": [
  {
   "cell_type": "code",
   "execution_count": null,
   "id": "4e43b7f7",
   "metadata": {},
   "outputs": [],
   "source": [
    "import igraph as ig\n",
    "import pandas as pd\n",
    "import numpy as np\n",
    "from pathlib import Path\n",
    "import scipy.sparse as sp\n",
    "from src.config import INTERIM_DATA_DIR"
   ]
  },
  {
   "cell_type": "markdown",
   "id": "b2249dec",
   "metadata": {},
   "source": [
    "## 读取图结构"
   ]
  },
  {
   "cell_type": "code",
   "execution_count": null,
   "id": "3cd0a722",
   "metadata": {},
   "outputs": [],
   "source": [
    "# 图结构位置\n",
    "merged_graph_path = INTERIM_DATA_DIR / \"Texas7k_Gas/merged_graph.pkl\"\n",
    "\n",
    "# 读取图结构\n",
    "g = ig.Graph.Read_Pickle(merged_graph_path)\n",
    "\n",
    "# 获取所有节点和边的信息\n",
    "nodes = g.vs  # 节点列表\n",
    "edges = g.es  # 边列表\n",
    "\n",
    "# 统计图结构信息\n",
    "print(f\"总节点数: {g.vcount()}\")\n",
    "print(f\"总边数: {g.ecount()}\")"
   ]
  },
  {
   "cell_type": "markdown",
   "id": "4e6ebda9",
   "metadata": {},
   "source": [
    "## 灾害模拟"
   ]
  },
  {
   "cell_type": "code",
   "execution_count": null,
   "id": "374e0ebe",
   "metadata": {},
   "outputs": [],
   "source": [
    "\"\"\"\n",
    "灾害发生模型\n",
    "使用非齐次泊松过程模拟灾害发生的时间，假设每个灾害是独立的，且符合泊松分布。\n",
    "\"\"\"\n",
    "def poisson_process(lambda_rate, T):\n",
    "    \"\"\"\n",
    "    使用泊松过程生成灾害发生的时间\n",
    "    lambda_rate: 每年发生灾害的平均次数\n",
    "    T: 模拟时间范围\n",
    "    \"\"\"\n",
    "    event_times = []\n",
    "    t = 0\n",
    "    while t < T:\n",
    "        t += np.random.exponential(1 / lambda_rate)\n",
    "        if t < T:\n",
    "            event_times.append(t)\n",
    "    return np.array(event_times)"
   ]
  },
  {
   "cell_type": "code",
   "execution_count": null,
   "id": "42d49f1f",
   "metadata": {},
   "outputs": [],
   "source": [
    "# 假设地震的平均发生率为0.01次/年，模拟100年的时间范围\n",
    "lambda_rate = 0.01\n",
    "T = 100  # 模拟100年\n",
    "earthquake_times = poisson_process(lambda_rate, T)\n",
    "\n",
    "print(\"地震事件发生的时间:\", earthquake_times)"
   ]
  },
  {
   "cell_type": "code",
   "execution_count": null,
   "id": "0b5c2de1",
   "metadata": {},
   "outputs": [],
   "source": [
    "for time in earthquake_times:\n",
    "    g.add_vertex(f\"Earthquake_{time}\")\n",
    "    g.vs[-1][\"time\"] = time  # 地震事件发生的时间\n",
    "    g.vs[-1][\"severity\"] = np.random.normal(0.3, 0.1)  # 地震的严重性 (PGA)"
   ]
  },
  {
   "cell_type": "code",
   "execution_count": null,
   "id": "a6831ced",
   "metadata": {},
   "outputs": [],
   "source": [
    "\"\"\"\n",
    "灾害严重性模型\n",
    "假设灾害(地震)的严重性服从正态分布,即峰值地面加速度(PGA)服从正态分布。\n",
    "\"\"\"\n",
    "def generate_severity(num_events, mean=0.3, std_dev=0.1):\n",
    "    \"\"\"\n",
    "    num_events: 需要模拟的事件数量\n",
    "    mean: 正态分布的均值(PGA均值)\n",
    "    std_dev: 正态分布的标准差\n",
    "    \"\"\"\n",
    "    severity = np.random.normal(loc=mean, scale=std_dev, size=num_events)\n",
    "    return severity\n"
   ]
  },
  {
   "cell_type": "code",
   "execution_count": null,
   "id": "f9aaaf10",
   "metadata": {},
   "outputs": [],
   "source": [
    "# 假设我们有10次地震事件\n",
    "num_events = len(earthquake_times)\n",
    "earthquake_severity = generate_severity(num_events)\n",
    "\n",
    "print(\"地震事件的严重性:\", earthquake_severity)"
   ]
  },
  {
   "cell_type": "code",
   "execution_count": null,
   "id": "9033455d",
   "metadata": {},
   "outputs": [],
   "source": [
    "\"\"\"\n",
    "定义灾害之间的触发关系（例如，地震引发海啸或电力中断），\n",
    "假设地震的严重性高于某个阈值时，可能会影响电力和天然气网络的节点。\n",
    "\"\"\"\n",
    "def trigger_secondary_hazards(earthquake_severity, threshold=0.5):\n",
    "    \"\"\"\n",
    "    假设地震发生时，若地震强度超过某个阈值（例如0.5g），则会触发次生灾害（例如电力中断、天然气泄漏）\n",
    "    \"\"\"\n",
    "    triggered_hazards = []\n",
    "    for severity in earthquake_severity:\n",
    "        if severity >= threshold:\n",
    "            triggered_hazards.append(True)  # 触发了次生灾害\n",
    "        else:\n",
    "            triggered_hazards.append(False)  # 没有触发次生灾害\n",
    "    return triggered_hazards\n"
   ]
  },
  {
   "cell_type": "code",
   "execution_count": null,
   "id": "e67f98ff",
   "metadata": {},
   "outputs": [],
   "source": [
    "# 判断哪些地震事件会触发次生灾害\n",
    "triggered_hazards = trigger_secondary_hazards(earthquake_severity, threshold=0.5)\n",
    "print(\"哪些地震事件触发了次生灾害:\", triggered_hazards)"
   ]
  },
  {
   "cell_type": "code",
   "execution_count": null,
   "id": "0206b244",
   "metadata": {},
   "outputs": [],
   "source": [
    "def create_disaster_graph(earthquake_times, earthquake_severity, triggered_hazards):\n",
    "    \"\"\"\n",
    "    创建一个多灾害图，表示地震、次生灾害等灾害之间的相互关系\n",
    "    earthquake_times: 地震事件发生的时间\n",
    "    earthquake_severity: 地震事件的严重性（PGA）\n",
    "    triggered_hazards: 哪些灾害触发了次生灾害\n",
    "    \"\"\"\n",
    "    # 创建一个空的图\n",
    "    g_disaster = ig.Graph(directed=True)\n",
    "\n",
    "    # 添加灾害事件节点（例如地震）\n",
    "    g_disaster.add_vertices(len(earthquake_times) + 1)  # 包含一个海啸节点（假设）\n",
    "    \n",
    "    for i in range(len(earthquake_times)):\n",
    "        g_disaster.vs[i]['time'] = earthquake_times[i]\n",
    "        g_disaster.vs[i]['severity'] = earthquake_severity[i]\n",
    "    \n",
    "    # 添加海啸节点\n",
    "    g_disaster.vs[-1]['time'] = \"Triggered by Earthquake\"\n",
    "    g_disaster.vs[-1]['severity'] = \"High\"  # 海啸的强度假设为高\n",
    "    \n",
    "    # 根据地震的触发关系添加边\n",
    "    for i, triggered in enumerate(triggered_hazards):\n",
    "        if triggered:\n",
    "            g_disaster.add_edge(i, len(g_disaster.vs) - 1)  # 从地震到海啸的边\n",
    "    \n",
    "    return g_disaster\n",
    "\n",
    "# 创建多灾害图\n",
    "g_disaster = create_disaster_graph(earthquake_times, earthquake_severity, triggered_hazards)\n",
    "\n",
    "# 输出图的节点和边\n",
    "print(\"图的节点:\", g_disaster.vs['time'])\n",
    "print(\"图的边:\", g_disaster.es())"
   ]
  },
  {
   "cell_type": "code",
   "execution_count": null,
   "id": "35129f9f",
   "metadata": {},
   "outputs": [],
   "source": [
    "def simulate_disaster_impact(g, earthquake_times, earthquake_severity, triggered_hazards, threshold=0.5):\n",
    "    \"\"\"\n",
    "    模拟灾害对电力和天然气网络的影响，假设灾害会影响某些节点和边的状态\n",
    "    earthquake_times: 地震事件的发生时间\n",
    "    earthquake_severity: 地震事件的严重性\n",
    "    triggered_hazards: 哪些灾害触发了次生灾害\n",
    "    \"\"\"\n",
    "    # 遍历所有地震事件，评估其对网络节点的影响\n",
    "    for i, triggered in enumerate(triggered_hazards):\n",
    "        if triggered:\n",
    "            # 获取受影响的电力节点和天然气节点\n",
    "            affected_nodes = g.vs.select(_degree_ge=1)  # 假设所有度大于1的节点都受影响\n",
    "            for node in affected_nodes:\n",
    "                # 标记受影响节点（例如，损坏）\n",
    "                node['status'] = 'damaged'\n",
    "    \n",
    "    return g\n",
    "\n",
    "# 模拟灾害对网络的影响\n",
    "g_affected = simulate_disaster_impact(g, earthquake_times, earthquake_severity, triggered_hazards)\n",
    "\n",
    "# 输出受影响的节点\n",
    "affected_nodes = [node.index for node in g_affected.vs if node['status'] == 'damaged']\n",
    "print(\"受影响的节点索引:\", affected_nodes)"
   ]
  },
  {
   "cell_type": "code",
   "execution_count": null,
   "id": "7397d3e7",
   "metadata": {},
   "outputs": [],
   "source": []
  }
 ],
 "metadata": {
  "kernelspec": {
   "display_name": ".venv",
   "language": "python",
   "name": "python3"
  },
  "language_info": {
   "codemirror_mode": {
    "name": "ipython",
    "version": 3
   },
   "file_extension": ".py",
   "mimetype": "text/x-python",
   "name": "python",
   "nbconvert_exporter": "python",
   "pygments_lexer": "ipython3"
  }
 },
 "nbformat": 4,
 "nbformat_minor": 5
}
