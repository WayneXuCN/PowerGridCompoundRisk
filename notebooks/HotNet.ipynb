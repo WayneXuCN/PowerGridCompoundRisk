{
 "cells": [
  {
   "metadata": {
    "ExecuteTime": {
     "end_time": "2025-03-29T08:13:44.114178Z",
     "start_time": "2025-03-29T08:13:44.107723Z"
    }
   },
   "cell_type": "code",
   "source": [
    "import igraph as ig\n",
    "import numpy as np\n",
    "import pandas as pd\n",
    "import scipy.sparse as sp\n",
    "import torch\n",
    "import torch.nn as nn\n",
    "import torch.nn.functional as F\n",
    "from torch_geometric.data import Data\n",
    "from torch_geometric.loader import DataLoader\n",
    "from torch_geometric.nn import MessagePassing, global_mean_pool\n",
    "\n",
    "# Define the Apple Silicon device\n",
    "device = torch.device('mps' if torch.backends.mps.is_available() else 'cpu')\n",
    "print(device)"
   ],
   "id": "6587eb69c5cfebe1",
   "outputs": [
    {
     "name": "stdout",
     "output_type": "stream",
     "text": [
      "mps\n"
     ]
    }
   ],
   "execution_count": 42
  },
  {
   "metadata": {
    "ExecuteTime": {
     "end_time": "2025-03-29T08:13:44.356047Z",
     "start_time": "2025-03-29T08:13:44.334312Z"
    }
   },
   "cell_type": "code",
   "source": [
    "## 1. 数据预处理\n",
    "# 读取网络数据\n",
    "edge_file = \"../data/raw/european/powergridEU_E.csv\"\n",
    "coord_file = \"../data/raw/european/powergridEU_V.csv\"\n",
    "\n",
    "# 读取数据\n",
    "edges = pd.read_csv(edge_file, header=None).values.tolist()\n",
    "coords = pd.read_csv(coord_file, header=None)  # 节点坐标数据\n",
    "\n",
    "# 创建无向图\n",
    "g = ig.Graph.TupleList(edges, directed=False)\n",
    "g.vs[\"name\"] = [int(v) for v in g.vs[\"name\"]]  # 节点名转为整数\n",
    "\n",
    "num_nodes, num_edges = g.vcount(), g.ecount()\n",
    "print(\"Number of nodes:\", num_nodes, \"Number of edges:\", num_edges)"
   ],
   "id": "ed453e85ae529c53",
   "outputs": [
    {
     "name": "stdout",
     "output_type": "stream",
     "text": [
      "Number of nodes: 13478 Number of edges: 16922\n"
     ]
    }
   ],
   "execution_count": 43
  },
  {
   "metadata": {
    "ExecuteTime": {
     "end_time": "2025-03-29T08:13:48.065207Z",
     "start_time": "2025-03-29T08:13:45.537130Z"
    }
   },
   "cell_type": "code",
   "source": [
    "distances_upper = sp.load_npz(\"../data/processed/distances.npz\").toarray()\n",
    "distances = distances_upper + distances_upper.T  # 恢复对称性\n",
    "print(\"distances:\", distances.shape)\n",
    "print(\"-\" * 20)\n",
    "\n",
    "adj_sparse = sp.load_npz(\"../data/processed/adj_sparse.npz\")\n",
    "print(\"邻接矩阵 adj_sparse:\", adj_sparse.shape)\n",
    "print(\"-\" * 20)\n",
    "\n",
    "B1 = sp.load_npz(\"../data/processed/B1.npz\")\n",
    "print(\"节点-边关联矩阵 B1:\", B1.shape)\n",
    "print(\"-\" * 20)\n",
    "\n",
    "L1_tilde = sp.load_npz(\"../data/processed/L1_tilde.npz\")\n",
    "L1_tilde = torch.tensor(L1_tilde.toarray(), dtype=torch.float32)  # 转换为密集矩阵\n",
    "print(\"Hodge 1-Laplacian 矩阵 L1_tilde:\", L1_tilde.shape)\n",
    "print(\"-\" * 20)\n",
    "\n",
    "X = np.load(\"../data/processed/X.npy\", allow_pickle=True)\n",
    "print(\"X:\", X.shape)"
   ],
   "id": "a960491b217a106e",
   "outputs": [
    {
     "name": "stdout",
     "output_type": "stream",
     "text": [
      "distances: (13478, 13478)\n",
      "--------------------\n",
      "邻接矩阵 adj_sparse: (13478, 13478)\n",
      "--------------------\n",
      "节点-边关联矩阵 B1: (13478, 16922)\n",
      "--------------------\n",
      "Hodge 1-Laplacian 矩阵 L1_tilde: torch.Size([16922, 16922])\n",
      "--------------------\n",
      "X: (13478, 5)\n"
     ]
    }
   ],
   "execution_count": 44
  },
  {
   "metadata": {
    "ExecuteTime": {
     "end_time": "2025-03-29T08:10:22.781019Z",
     "start_time": "2025-03-29T08:10:22.769928Z"
    }
   },
   "cell_type": "code",
   "source": [
    "## 数据预处理\n",
    "# 模拟节点特征（例如电压、功率等）\n",
    "node_features = torch.randn(num_nodes, 3)  # 3维节点特征\n",
    "print(node_features.shape)\n",
    "\n",
    "# 模拟边特征（例如电阻、电抗等）\n",
    "edge_features = torch.randn(num_edges, 2)  # 2维边特征\n",
    "print(edge_features.shape)\n",
    "\n",
    "# 构建边索引，将edges转换为PyTorch张量\n",
    "edges = pd.read_csv(edge_file, header=None).to_numpy()\n",
    "edge_index = torch.tensor(edges, dtype=torch.long).T\n",
    "print(edge_index.shape)\n",
    "\n",
    "# 添加批次信息（假设只有一个图）\n",
    "batch = torch.zeros(num_nodes, dtype=torch.long)\n",
    "print(batch.shape)"
   ],
   "id": "23d83753b91a0a2",
   "outputs": [
    {
     "name": "stdout",
     "output_type": "stream",
     "text": [
      "torch.Size([13478, 3])\n",
      "torch.Size([16922, 2])\n",
      "torch.Size([2, 16922])\n",
      "torch.Size([13478])\n"
     ]
    }
   ],
   "execution_count": 36
  },
  {
   "metadata": {
    "ExecuteTime": {
     "end_time": "2025-03-29T08:40:39.790600Z",
     "start_time": "2025-03-29T08:40:39.767754Z"
    }
   },
   "cell_type": "code",
   "source": [
    "import torch\n",
    "import torch.nn as nn\n",
    "import torch.nn.functional as F\n",
    "\n",
    "# HoSC 单层模块：高阶单纯形卷积\n",
    "class HigherOrderSimplicialConv(nn.Module):\n",
    "    def __init__(self, in_channels, out_channels):\n",
    "        super().__init__()\n",
    "        self.theta = nn.Linear(in_channels, out_channels)  # 权重矩阵 Θ_H [in_channels, out_channels]\n",
    "        self.bn = nn.BatchNorm1d(out_channels)            # 批量归一化层，稳定训练\n",
    "\n",
    "    def forward(self, Z_H, L1_tilde):\n",
    "        # Z_H [M, in_channels]：输入边嵌入\n",
    "        # L1_tilde [M, M]：Hodge 1-Laplacian\n",
    "        Z_theta = self.theta(Z_H)                     # 线性变换 [M, out_channels]\n",
    "        Z_conv = torch.sparse.mm(L1_tilde, Z_theta) if L1_tilde.is_sparse else torch.mm(L1_tilde, Z_theta)  # 卷积 [M, out_channels]\n",
    "        Z_psi = F.relu(self.bn(Z_conv))               # 非线性变换（BatchNorm + ReLU）[M, out_channels]\n",
    "        Z_max, _ = torch.max(Z_psi, dim=1, keepdim=True)  # 特征维度最大值 [M, 1]\n",
    "        return Z_max\n",
    "\n",
    "# HoSC 模块：多层高阶单纯形卷积\n",
    "class HoSC(nn.Module):\n",
    "    def __init__(self, input_dim, hidden_dims):\n",
    "        super().__init__()\n",
    "        self.layers = nn.ModuleList()                 # 存储多层 HoSC\n",
    "        current_dim = input_dim                       # 初始输入维度\n",
    "        for dim in hidden_dims:\n",
    "            self.layers.append(HigherOrderSimplicialConv(current_dim, dim))  # 添加单层 [current_dim, dim]\n",
    "            current_dim = 1                           # 每层输出固定为 1\n",
    "\n",
    "    def forward(self, edge_attr, L1_tilde):\n",
    "        # edge_attr [M, input_dim]：边特征\n",
    "        # L1_tilde [M, M]：Hodge 1-Laplacian\n",
    "        Z_list = []                                   # 存储各层输出\n",
    "        Z_H = edge_attr                               # 初始边嵌入 [M, input_dim]\n",
    "        for layer in self.layers:\n",
    "            Z_H = layer(Z_H, L1_tilde)                # 单层 HoSC 输出 [M, 1]\n",
    "            Z_list.append(Z_H)\n",
    "        return torch.cat(Z_list, dim=1)               # 拼接所有层输出 [M, len(hidden_dims)]\n",
    "\n",
    "# GNN 模块：节点特征提取\n",
    "class GNN(nn.Module):\n",
    "    def __init__(self, input_dim, hidden_dims):\n",
    "        super().__init__()\n",
    "        self.layers = nn.ModuleList()                 # 存储多层 GCN\n",
    "        current_dim = input_dim                       # 初始输入维度\n",
    "        for dim in hidden_dims:\n",
    "            self.layers.append(nn.Linear(current_dim, dim))  # 线性层 [current_dim, dim]\n",
    "            current_dim = dim                         # 更新维度\n",
    "\n",
    "    def forward(self, X_n, A_tilde):\n",
    "        # X_n [n, input_dim]：节点特征\n",
    "        # A_tilde [n, n]：归一化邻接矩阵\n",
    "        H = X_n                                       # 初始节点嵌入 [n, input_dim]\n",
    "        for layer in self.layers:\n",
    "            H = torch.mm(A_tilde, H)                  # 邻域聚合 [n, current_dim]\n",
    "            H = F.relu(H @ layer.weight.T + layer.bias)  # 线性变换与激活 [n, next_dim]\n",
    "        return H                                      # 最终节点嵌入 [n, hidden_dims[-1]]\n",
    "\n",
    "# PPGN-HoSC 主模型\n",
    "class PPGN_HoSC(nn.Module):\n",
    "    def __init__(self, n_nodes, node_features, edge_features, node_hidden, edge_hidden):\n",
    "        super().__init__()\n",
    "        self.n_nodes = n_nodes                        # 节点数 n，例如 100\n",
    "        self.gnn = GNN(node_features, node_hidden)    # GNN 模块，输入 node_features，输出 hidden_dims[-1]\n",
    "        self.hosc = HoSC(edge_features, edge_hidden)  # HoSC 模块，输入 edge_features，输出 len(edge_hidden)\n",
    "        # 全连接层\n",
    "        self.fc1 = nn.Linear(node_hidden[-1] + len(edge_hidden), 2 * n_nodes)  # [d_{L_n} + L_e, 2n]\n",
    "        self.fc2 = nn.Linear(2 * n_nodes, n_nodes)    # [2n, n]\n",
    "\n",
    "    def forward(self, data):\n",
    "        # 输入数据提取\n",
    "        X_n = data.x                                  # 节点特征 [n, node_features]，例如 [100, 3]\n",
    "        X_e = data.edge_attr                          # 边特征 [M, edge_features]，例如 [150, 1]\n",
    "        A_tilde = data.A_tilde                        # 邻接矩阵 [n, n]，例如 [100, 100]\n",
    "        L1_tilde = data.L1_tilde                      # Hodge 1-Laplacian [M, M]，例如 [150, 150]\n",
    "        B1 = data.B1                                  # 关联矩阵 [n, M]，例如 [100, 150]\n",
    "\n",
    "        # 节点特征提取\n",
    "        H_n = self.gnn(X_n, A_tilde)                  # GNN 输出 [n, d_{L_n}]，例如 [100, 8]\n",
    "\n",
    "        # 边特征与高阶拓扑建模\n",
    "        Z_H = self.hosc(X_e, L1_tilde)                # HoSC 输出 [M, L_e]，例如 [150, 3]\n",
    "\n",
    "        # 边到节点映射\n",
    "        H_e = torch.sparse.mm(B1, Z_H) if B1.is_sparse else torch.mm(B1, Z_H)  # [n, L_e]，例如 [100, 3]\n",
    "\n",
    "        # 特征融合\n",
    "        H = torch.cat([H_n, H_e], dim=1)              # 拼接 [n, d_{L_n} + L_e]，例如 [100, 11]\n",
    "\n",
    "        # 全局变换\n",
    "        f = F.relu(self.fc1(H))                       # 第一层全连接 [n, 2n]，例如 [100, 200]\n",
    "        f = self.fc2(f)                               # 第二层全连接 [n, n]，例如 [100, 100]\n",
    "\n",
    "        # 概率输出\n",
    "        z_p = F.sigmoid(f)                            # 独立概率 [n, n]，每个元素在 [0,1]\n",
    "        return z_p[0]                                 # 单样本输出 [n]，例如 [100]\n",
    "\n",
    "# 示例运行\n",
    "n, M = 100, 150  # 节点数和边数\n",
    "data = type('Data', (), {\n",
    "    'x': torch.randn(n, 3),          # 节点特征 [100, 3]\n",
    "    'edge_attr': torch.randn(M, 1),  # 边特征 [150, 1]\n",
    "    'A_tilde': torch.randn(n, n),    # 邻接矩阵 [100, 100]\n",
    "    'L1_tilde': torch.randn(M, M),   # Hodge 1-Laplacian [150, 150]\n",
    "    'B1': torch.randn(n, M)          # 关联矩阵 [100, 150]\n",
    "})()\n",
    "model = PPGN_HoSC(n_nodes=n, node_features=3, edge_features=1, node_hidden=[32, 16, 8], edge_hidden=[16, 8, 1])\n",
    "z_p = model(data)\n",
    "print(f\"Output shape: {z_p.shape}\")  # 输出形状：[100]\n",
    "print(f\"Sample probabilities: {z_p[:5]}\")  # 示例前五个概率\n",
    "print(f\"Sum of probabilities: {z_p.sum().item()}\")  # 概率总和（无约束）"
   ],
   "id": "a26fa53c78eac304",
   "outputs": [
    {
     "name": "stdout",
     "output_type": "stream",
     "text": [
      "Output shape: torch.Size([100])\n",
      "Sample probabilities: tensor([2.0985e-09, 3.4853e-11, 1.0000e+00, 3.7305e-16, 4.1692e-01],\n",
      "       grad_fn=<SliceBackward0>)\n",
      "Sum of probabilities: 46.11359405517578\n"
     ]
    }
   ],
   "execution_count": 75
  },
  {
   "metadata": {},
   "cell_type": "code",
   "outputs": [],
   "execution_count": null,
   "source": "",
   "id": "ab3ee424a902e0eb"
  }
 ],
 "metadata": {
  "kernelspec": {
   "display_name": "Python 3",
   "language": "python",
   "name": "python3"
  },
  "language_info": {
   "codemirror_mode": {
    "name": "ipython",
    "version": 2
   },
   "file_extension": ".py",
   "mimetype": "text/x-python",
   "name": "python",
   "nbconvert_exporter": "python",
   "pygments_lexer": "ipython2",
   "version": "2.7.6"
  }
 },
 "nbformat": 4,
 "nbformat_minor": 5
}
