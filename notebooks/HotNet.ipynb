{
 "cells": [
  {
   "metadata": {
    "ExecuteTime": {
     "end_time": "2025-03-25T14:17:30.745373Z",
     "start_time": "2025-03-25T14:17:30.742071Z"
    }
   },
   "cell_type": "code",
   "source": [
    "import igraph as ig\n",
    "import numpy as np\n",
    "import pandas as pd\n",
    "import scipy.sparse as sp\n",
    "import torch\n",
    "import torch.nn as nn\n",
    "import torch.nn.functional as F\n",
    "from torch_geometric.data import Data\n",
    "from torch_geometric.loader import DataLoader\n",
    "from torch_geometric.nn import MessagePassing, global_mean_pool\n",
    "\n",
    "# Define the Apple Silicon device\n",
    "device = torch.device('mps' if torch.backends.mps.is_available() else 'cpu')\n",
    "print(device)"
   ],
   "id": "6587eb69c5cfebe1",
   "outputs": [
    {
     "name": "stdout",
     "output_type": "stream",
     "text": [
      "mps\n"
     ]
    }
   ],
   "execution_count": 176
  },
  {
   "metadata": {
    "ExecuteTime": {
     "end_time": "2025-03-25T14:17:31.044434Z",
     "start_time": "2025-03-25T14:17:31.008076Z"
    }
   },
   "cell_type": "code",
   "source": [
    "## 1. 数据预处理\n",
    "# 读取网络数据\n",
    "edge_file = \"../data/raw/european/powergridEU_E.csv\"\n",
    "coord_file = \"../data/raw/european/powergridEU_V.csv\"\n",
    "\n",
    "# 读取数据\n",
    "edges = pd.read_csv(edge_file, header=None).values.tolist()\n",
    "coords = pd.read_csv(coord_file, header=None)  # 节点坐标数据\n",
    "\n",
    "# 创建无向图\n",
    "g = ig.Graph.TupleList(edges, directed=False)\n",
    "g.vs[\"name\"] = [int(v) for v in g.vs[\"name\"]]  # 节点名转为整数\n",
    "\n",
    "num_nodes, num_edges = g.vcount(), g.ecount()\n",
    "print(\"Number of nodes:\", num_nodes, \"Number of edges:\", num_edges)"
   ],
   "id": "ed453e85ae529c53",
   "outputs": [
    {
     "name": "stdout",
     "output_type": "stream",
     "text": [
      "Number of nodes: 13478 Number of edges: 16922\n"
     ]
    }
   ],
   "execution_count": 177
  },
  {
   "metadata": {
    "ExecuteTime": {
     "end_time": "2025-03-25T14:17:32.751164Z",
     "start_time": "2025-03-25T14:17:31.398139Z"
    }
   },
   "cell_type": "code",
   "source": [
    "distances = np.load(\"../data/processed/distances.npy\", allow_pickle=True)\n",
    "print(\"distances:\", distances.shape)\n",
    "print(\"-\" * 20)\n",
    "adj_sparse = sp.load_npz(\"../data/processed/adj_sparse.npz\")\n",
    "print(\"邻接矩阵 adj_sparse:\", adj_sparse.shape)\n",
    "print(\"-\" * 20)\n",
    "B1 = sp.load_npz(\"../data/processed/B1.npz\")\n",
    "print(\"节点-边关联矩阵 B1:\", B1.shape)\n",
    "print(\"-\" * 20)\n",
    "L1_tilde = sp.load_npz(\"../data/processed/L1_tilde.npz\")\n",
    "L1_tilde = torch.tensor(L1_tilde.toarray(), dtype=torch.float32)  # 转换为密集矩阵\n",
    "print(\"Hodge 1-Laplacian 矩阵 L1_tilde:\", L1.shape)\n",
    "print(\"-\" * 20)\n",
    "X = np.load(\"../data/processed/X.npy\", allow_pickle=True)\n",
    "print(\"X:\", X.shape)"
   ],
   "id": "a960491b217a106e",
   "outputs": [
    {
     "name": "stdout",
     "output_type": "stream",
     "text": [
      "distances: (13478, 13478)\n",
      "--------------------\n",
      "邻接矩阵 adj_sparse: (13478, 13478)\n",
      "--------------------\n",
      "节点-边关联矩阵 B1: (13478, 16922)\n",
      "--------------------\n",
      "Hodge 1-Laplacian 矩阵 L1_tilde: torch.Size([16922, 16922])\n",
      "--------------------\n",
      "X: (13478, 5)\n"
     ]
    }
   ],
   "execution_count": 178
  },
  {
   "metadata": {
    "ExecuteTime": {
     "end_time": "2025-03-25T14:17:32.822524Z",
     "start_time": "2025-03-25T14:17:32.818339Z"
    }
   },
   "cell_type": "code",
   "source": [
    "import torch\n",
    "import torch.nn as nn\n",
    "import torch.nn.functional as F\n",
    "\n",
    "class HigherOrderSimplicialConv(nn.Module):\n",
    "    def __init__(self, in_channels, out_channels):\n",
    "        super().__init__()\n",
    "        self.theta = nn.Linear(in_channels, out_channels)  # 可训练权重 Θ_H\n",
    "        self.bn = nn.BatchNorm1d(out_channels)\n",
    "\n",
    "    def forward(self, Z_H, L1_tilde):\n",
    "        # 公式: Z_H^{(ℓ+1)} = max(Ψ(˜L1 Z_H^{(ℓ)} Θ))\n",
    "        # 1. 线性变换 Θ_H\n",
    "        Z_theta = self.theta(Z_H)  # [M, out_channels]\n",
    "\n",
    "        # 2. Hodge 1-Laplacian 矩阵乘法\n",
    "        if L1_tilde.is_sparse:\n",
    "            Z_conv = torch.sparse.mm(L1_tilde, Z_theta)\n",
    "        else:\n",
    "            Z_conv = torch.mm(L1_tilde, Z_theta)  # [M, out_channels]\n",
    "\n",
    "        # 3. 非线性变换 Ψ (BatchNorm + ReLU)\n",
    "        Z_psi = F.relu(self.bn(Z_conv))\n",
    "\n",
    "        # 4. 元素级最大池化（沿特征维度取每个边的最大值）\n",
    "        Z_max, _ = torch.max(Z_psi, dim=1, keepdim=True)  # [M, 1]\n",
    "\n",
    "        return Z_max\n",
    "\n",
    "class HoSC(nn.Module):\n",
    "    def __init__(self, input_dim, hidden_dims):\n",
    "        super().__init__()\n",
    "        self.layers = nn.ModuleList()\n",
    "        current_dim = input_dim\n",
    "        for dim in hidden_dims:\n",
    "            self.layers.append(HigherOrderSimplicialConv(current_dim, dim))\n",
    "            current_dim = 1  # 每层输出维度为1\n",
    "\n",
    "    def forward(self, edge_attr, L1_tilde):\n",
    "        Z_list = []\n",
    "        Z_H = edge_attr\n",
    "        for layer in self.layers:\n",
    "            Z_H = layer(Z_H, L1_tilde)\n",
    "            Z_list.append(Z_H)\n",
    "\n",
    "        # 沿特征维度拼接所有层的输出\n",
    "        return torch.cat(Z_list, dim=1)  # [M, num_layers]\n",
    "\n",
    "class HOTNet(nn.Module):\n",
    "    def __init__(self, edge_features, hidden_dims, num_classes=1):\n",
    "        super().__init__()\n",
    "        self.hosc = HoSC(edge_features, hidden_dims)\n",
    "        self.fc = nn.Linear(len(hidden_dims), num_classes)\n",
    "\n",
    "    def forward(self, data):\n",
    "        # 提取边特征和Hodge矩阵\n",
    "        edge_attr = data.edge_attr  # [M, edge_features]\n",
    "        L1_tilde = data.L1_tilde    # [M, M]\n",
    "\n",
    "        # 通过HoSC模块得到边级嵌入\n",
    "        Z_H = self.hosc(edge_attr, L1_tilde)  # [M, num_layers]\n",
    "\n",
    "        # 全局池化（对边特征进行全局平均）\n",
    "        graph_embedding = Z_H.mean(dim=0).unsqueeze(0)  # [1, num_layers]\n",
    "\n",
    "        # 分类头\n",
    "        out = self.fc(graph_embedding)\n",
    "        return torch.sigmoid(out)"
   ],
   "id": "3ee945da8c3fed35",
   "outputs": [],
   "execution_count": 179
  },
  {
   "metadata": {
    "ExecuteTime": {
     "end_time": "2025-03-25T09:37:24.252579Z",
     "start_time": "2025-03-25T09:37:24.231652Z"
    }
   },
   "cell_type": "code",
   "source": [
    "## 数据预处理\n",
    "# 模拟节点特征（例如电压、功率等）\n",
    "node_features = torch.randn(num_nodes, 3)  # 3维节点特征\n",
    "print(node_features.shape)\n",
    "\n",
    "# 模拟边特征（例如电阻、电抗等）\n",
    "edge_features = torch.randn(num_edges, 2)  # 2维边特征\n",
    "print(edge_features.shape)\n",
    "\n",
    "# 构建边索引，将edges转换为PyTorch张量\n",
    "edges = pd.read_csv(edge_file, header=None).to_numpy()\n",
    "edge_index = torch.tensor(edges, dtype=torch.long).T\n",
    "print(edge_index.shape)\n",
    "\n",
    "# 添加批次信息（假设只有一个图）\n",
    "batch = torch.zeros(num_nodes, dtype=torch.long)\n",
    "print(batch.shape)"
   ],
   "id": "23d83753b91a0a2",
   "outputs": [
    {
     "name": "stdout",
     "output_type": "stream",
     "text": [
      "torch.Size([13478, 3])\n",
      "torch.Size([16922, 2])\n",
      "torch.Size([2, 16922])\n",
      "torch.Size([13478])\n"
     ]
    }
   ],
   "execution_count": 135
  },
  {
   "metadata": {
    "ExecuteTime": {
     "end_time": "2025-03-25T09:37:46.800887Z",
     "start_time": "2025-03-25T09:37:46.420151Z"
    }
   },
   "cell_type": "code",
   "source": [
    "# 构建图数据对象\n",
    "data = Data(\n",
    "    x=node_features,  # 节点特征 [num_nodes, num_node_features]\n",
    "    edge_index=edge_index,  # 边索引  torch.long [2, num_edges]\n",
    "    edge_attr=edge_features,  # 边特征 [num_edges, num_edge_features]\n",
    "    batch=batch,  # 批次信息 torch.long [num_nodes]\n",
    "    L1=L1  # Hodge 1-Laplacian 矩阵 [num_edges, num_edges]\n",
    ")\n",
    "# 将数据移动到 Apple Silicon\n",
    "data = data.to(device)\n",
    "# 构建数据加载器\n",
    "data_list = [data]\n",
    "loader = DataLoader(data_list, batch_size=1, shuffle=False)"
   ],
   "id": "bb7d5a7fc362e8c2",
   "outputs": [],
   "execution_count": 138
  },
  {
   "metadata": {
    "ExecuteTime": {
     "end_time": "2025-03-25T14:18:00.591335Z",
     "start_time": "2025-03-25T14:17:59.929396Z"
    }
   },
   "cell_type": "code",
   "source": [
    "# 模型配置\n",
    "model = HOTNet(edge_features=2, hidden_dims=[16, 32, 64])\n",
    "\n",
    "# 前向传播\n",
    "output = model(Data(edge_attr=edge_features, L1_tilde=L1_tilde))\n",
    "print(output.shape)  # 输出形状: [1, 1]"
   ],
   "id": "606577f7f768ea7b",
   "outputs": [
    {
     "name": "stdout",
     "output_type": "stream",
     "text": [
      "torch.Size([1, 1])\n"
     ]
    }
   ],
   "execution_count": 180
  },
  {
   "metadata": {
    "ExecuteTime": {
     "end_time": "2025-03-25T14:18:06.870989Z",
     "start_time": "2025-03-25T14:18:06.865905Z"
    }
   },
   "cell_type": "code",
   "source": "output",
   "id": "f602808f96e55d24",
   "outputs": [
    {
     "data": {
      "text/plain": [
       "tensor([[0.6597]], grad_fn=<SigmoidBackward0>)"
      ]
     },
     "execution_count": 183,
     "metadata": {},
     "output_type": "execute_result"
    }
   ],
   "execution_count": 183
  },
  {
   "metadata": {},
   "cell_type": "code",
   "outputs": [],
   "execution_count": null,
   "source": "",
   "id": "3cae905083217d9f"
  }
 ],
 "metadata": {
  "kernelspec": {
   "display_name": "Python 3",
   "language": "python",
   "name": "python3"
  },
  "language_info": {
   "codemirror_mode": {
    "name": "ipython",
    "version": 2
   },
   "file_extension": ".py",
   "mimetype": "text/x-python",
   "name": "python",
   "nbconvert_exporter": "python",
   "pygments_lexer": "ipython2",
   "version": "2.7.6"
  }
 },
 "nbformat": 4,
 "nbformat_minor": 5
}
