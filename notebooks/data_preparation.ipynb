{
 "cells": [
  {
   "cell_type": "code",
   "execution_count": 1,
   "id": "9000b5b1",
   "metadata": {},
   "outputs": [],
   "source": [
    "import numpy as np\n",
    "import pandas as pd\n",
    "import scipy.sparse as sp\n",
    "import torch\n",
    "import igraph as ig\n",
    "from pathlib import Path\n",
    "import pickle\n",
    "from src.config import INTERIM_DATA_DIR, PROCESSED_DATA_DIR"
   ]
  },
  {
   "cell_type": "code",
   "execution_count": 2,
   "id": "4fcf1725",
   "metadata": {},
   "outputs": [],
   "source": [
    "# 1. 加载网络数据\n",
    "g_path = INTERIM_DATA_DIR / \"Texas7k_Gas/merged_graph.pkl\"\n",
    "g = ig.Graph.Read_Pickle(g_path)\n",
    "\n",
    "# 加载矩阵\n",
    "distances_upper = sp.load_npz(INTERIM_DATA_DIR / \"Texas7k_Gas/distances.npz\").toarray()\n",
    "distances = distances_upper + distances_upper.T\n",
    "adj_sparse = sp.load_npz(INTERIM_DATA_DIR / \"Texas7k_Gas/adj_sparse.npz\")\n",
    "B1 = sp.load_npz(INTERIM_DATA_DIR / \"Texas7k_Gas/B1.npz\")\n",
    "L1_tilde = sp.load_npz(INTERIM_DATA_DIR / \"Texas7k_Gas/L1_tilde.npz\")\n",
    "\n",
    "# 加载特征\n",
    "edge_features = np.load(INTERIM_DATA_DIR / \"Texas7k_Gas/edge_features.npy\", allow_pickle=True)\n",
    "node_features = np.load(INTERIM_DATA_DIR / \"Texas7k_Gas/node_features.npy\", allow_pickle=True)\n",
    "edge_features_df = pd.DataFrame(edge_features, columns=np.load(INTERIM_DATA_DIR / \"Texas7k_Gas/edge_feature_names.npy\", allow_pickle=True))\n",
    "node_features_df = pd.DataFrame(node_features, columns=np.load(INTERIM_DATA_DIR / \"Texas7k_Gas/node_feature_names.npy\", allow_pickle=True))"
   ]
  },
  {
   "cell_type": "code",
   "execution_count": 3,
   "id": "d2d9dbc2",
   "metadata": {},
   "outputs": [],
   "source": [
    "# 2. 模拟时间序列特征（负载、流量）并拼接静态特征\n",
    "def generate_time_series_features(n_nodes, node_features, n_timesteps=600, seed=42):\n",
    "    np.random.seed(seed)\n",
    "    time = np.linspace(0, 50*12, n_timesteps)\n",
    "    base_load = node_features[:, 3]  # pd\n",
    "    base_flow = node_features[:, 8]  # gas_load_p\n",
    "    dynamic_features = np.zeros((n_nodes, n_timesteps, 25))\n",
    "    for t in range(n_timesteps):\n",
    "        # 静态特征（前23维）\n",
    "        dynamic_features[:, t, :23] = node_features[:, :23]\n",
    "        # 动态特征（后2维：负载、流量）\n",
    "        dynamic_features[:, t, 23] = base_load * (1 + 0.2 * np.sin(2 * np.pi * time[t] / 12) + 0.1 * np.random.randn(n_nodes))\n",
    "        dynamic_features[:, t, 24] = base_flow * (1 + 0.2 * np.sin(2 * np.pi * time[t] / 12) + 0.1 * np.random.randn(n_nodes))\n",
    "    return dynamic_features\n",
    "\n",
    "n_timesteps = 600\n",
    "dynamic_features = generate_time_series_features(9168, node_features, n_timesteps)"
   ]
  },
  {
   "cell_type": "code",
   "execution_count": 4,
   "id": "d0086d64",
   "metadata": {},
   "outputs": [
    {
     "name": "stdout",
     "output_type": "stream",
     "text": [
      "(9168, 3)\n"
     ]
    },
    {
     "data": {
      "text/plain": [
       "array([[ 0.17348868,  1.14604485, 12.44690953],\n",
       "       [ 0.12629534,  1.18662458, 37.23573177],\n",
       "       [ 0.18709183,  0.5773309 , 21.01843341],\n",
       "       ...,\n",
       "       [ 0.13108112,  0.62042229,  8.15923209],\n",
       "       [ 0.0722942 ,  0.87521462, 10.12665919],\n",
       "       [ 0.08212866,  0.78196935, 11.60030175]])"
      ]
     },
     "execution_count": 4,
     "metadata": {},
     "output_type": "execute_result"
    }
   ],
   "source": [
    "# 3. 生成灾害暴露度\n",
    "def generate_disaster_exposure(n_nodes, coordinates, seed=42):\n",
    "    np.random.seed(seed)\n",
    "    lat, lon = coordinates[:, 0], coordinates[:, 1]\n",
    "    earthquake_pga = np.random.lognormal(mean=-2, sigma=0.5, size=n_nodes)  # 中值约0.135g\n",
    "    flood_depth = np.random.lognormal(mean=0, sigma=0.5, size=n_nodes)  # 中值约1米\n",
    "    hurricane_speed = np.random.weibull(a=2, size=n_nodes) * 20  # 平均约20m/s\n",
    "    return np.stack([earthquake_pga, flood_depth, hurricane_speed], axis=1)\n",
    "\n",
    "disaster_exposure = generate_disaster_exposure(9168, node_features_df[['latitude', 'longitude']].values)\n",
    "print(disaster_exposure.shape)\n",
    "disaster_exposure"
   ]
  },
  {
   "cell_type": "code",
   "execution_count": 5,
   "id": "2ca3dedf",
   "metadata": {},
   "outputs": [],
   "source": [
    "# 4. 构建时间超图\n",
    "def build_temporal_hypergraph(n_nodes, n_edges, dynamic_features, disaster_exposure, n_timesteps):\n",
    "    temporal_hyperedges = []\n",
    "    for t in range(n_timesteps):\n",
    "        hyperedges = []\n",
    "        for e in range(n_edges):\n",
    "            src, tgt = g.es[e].source, g.es[e].target\n",
    "            hyperedges.append([src, tgt])\n",
    "        for disaster_idx, disaster_name in enumerate(['earthquake', 'flood', 'hurricane']):\n",
    "            high_risk_nodes = np.where(disaster_exposure[:, disaster_idx] > np.percentile(disaster_exposure[:, disaster_idx], 90))[0]\n",
    "            if len(high_risk_nodes) > 1:\n",
    "                hyperedges.append(high_risk_nodes.tolist())\n",
    "        temporal_hyperedges.append(hyperedges)\n",
    "    return temporal_hyperedges\n",
    "\n",
    "temporal_hyperedges = build_temporal_hypergraph(9168, 11667, dynamic_features, disaster_exposure, n_timesteps)"
   ]
  },
  {
   "cell_type": "code",
   "execution_count": 6,
   "id": "420f25a4",
   "metadata": {},
   "outputs": [],
   "source": [
    "# 5. 准备GNN输入\n",
    "def prepare_gnn_inputs(node_features, edge_features, adj_sparse, B1, L1_tilde):\n",
    "    X_n = torch.tensor(node_features.astype(np.float32), dtype=torch.float32)  # [9168, 25]\n",
    "    X_e = torch.tensor(edge_features.astype(np.float32), dtype=torch.float32)  # [11667, 9]\n",
    "    A_tilde = torch.tensor(sp.csr_matrix(adj_sparse).toarray(), dtype=torch.float32)  # [9168, 9168]\n",
    "    B1_tilde = torch.tensor(sp.csr_matrix(B1).toarray(), dtype=torch.float32)  # [9168, 11667]\n",
    "    L1_tilde = torch.tensor(sp.csr_matrix(L1_tilde).toarray(), dtype=torch.float32)  # [11667, 11667]\n",
    "    return X_n, X_e, A_tilde, B1_tilde, L1_tilde\n",
    "\n",
    "X_n, X_e, A_tilde, B1_tilde, L1_tilde = prepare_gnn_inputs(node_features, edge_features, adj_sparse, B1, L1_tilde)"
   ]
  },
  {
   "cell_type": "code",
   "execution_count": 7,
   "id": "2eea26d1",
   "metadata": {},
   "outputs": [
    {
     "name": "stdout",
     "output_type": "stream",
     "text": [
      "数据准备完成，保存至 temporal_hypergraph.pkl\n"
     ]
    }
   ],
   "source": [
    "# 保存数据\n",
    "with open(PROCESSED_DATA_DIR / \"temporal_hypergraph.pkl\", \"wb\") as f:\n",
    "    pickle.dump({\n",
    "        'temporal_hyperedges': temporal_hyperedges,\n",
    "        'dynamic_features': dynamic_features,\n",
    "        'disaster_exposure': disaster_exposure,\n",
    "        'X_n': X_n,\n",
    "        'X_e': X_e,\n",
    "        'A_tilde': A_tilde,\n",
    "        'B1_tilde': B1_tilde,\n",
    "        'L1_tilde': L1_tilde\n",
    "    }, f)\n",
    "\n",
    "print(\"数据准备完成，保存至 temporal_hypergraph.pkl\")"
   ]
  },
  {
   "cell_type": "code",
   "execution_count": null,
   "id": "97610dc7",
   "metadata": {},
   "outputs": [],
   "source": []
  }
 ],
 "metadata": {
  "kernelspec": {
   "display_name": ".venv",
   "language": "python",
   "name": "python3"
  },
  "language_info": {
   "codemirror_mode": {
    "name": "ipython",
    "version": 3
   },
   "file_extension": ".py",
   "mimetype": "text/x-python",
   "name": "python",
   "nbconvert_exporter": "python",
   "pygments_lexer": "ipython3",
   "version": "3.12.9"
  }
 },
 "nbformat": 4,
 "nbformat_minor": 5
}
