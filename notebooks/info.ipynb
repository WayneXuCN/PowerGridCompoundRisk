{
 "cells": [
  {
   "cell_type": "code",
   "id": "initial_id",
   "metadata": {
    "collapsed": true,
    "ExecuteTime": {
     "end_time": "2025-03-28T03:53:08.699547Z",
     "start_time": "2025-03-28T03:53:07.963737Z"
    }
   },
   "source": [
    "import igraph as ig\n",
    "import numpy as np\n",
    "import pandas as pd\n",
    "import scipy.sparse as sp"
   ],
   "outputs": [],
   "execution_count": 1
  },
  {
   "metadata": {
    "ExecuteTime": {
     "end_time": "2025-03-28T03:53:09.336446Z",
     "start_time": "2025-03-28T03:53:09.287458Z"
    }
   },
   "cell_type": "code",
   "source": [
    "## 1. 数据预处理\n",
    "# 读取网络数据\n",
    "edge_file = \"../data/raw/european/powergridEU_E.csv\"\n",
    "coord_file = \"../data/raw/european/powergridEU_V.csv\"\n",
    "\n",
    "# 读取数据\n",
    "edges = pd.read_csv(edge_file, header=None).values.tolist()\n",
    "coords = pd.read_csv(coord_file, header=None)  # 节点坐标数据\n",
    "\n",
    "# 创建无向图\n",
    "g = ig.Graph.TupleList(edges, directed=False)\n",
    "g.vs[\"name\"] = [int(v) for v in g.vs[\"name\"]]  # 节点名转为整数"
   ],
   "id": "50d648d509b2b14b",
   "outputs": [],
   "execution_count": 2
  },
  {
   "metadata": {
    "ExecuteTime": {
     "end_time": "2025-03-28T03:53:14.473387Z",
     "start_time": "2025-03-28T03:53:10.772247Z"
    }
   },
   "cell_type": "code",
   "source": [
    "# 计算图的属性\n",
    "num_nodes = g.vcount()  # 节点数量\n",
    "num_links = g.ecount()  # 边数量\n",
    "density = g.density()  # 密度\n",
    "max_degree = max(g.degree())  # 最大度\n",
    "avg_degree = sum(g.degree()) / num_nodes  # 平均度\n",
    "avg_clustering_coeff = g.transitivity_avglocal_undirected()  # 平均聚类系数\n",
    "num_connected_components = len(g.components())  # 连通分量数量\n",
    "diameter = g.diameter(directed=False)  # 直径\n",
    "avg_shortest_path_length = g.average_path_length(directed=False)  # 平均最短路径长度\n",
    "\n",
    "# 输出结果\n",
    "print(f\"Property\\tValue\")\n",
    "print(f\"Number of nodes\\t{num_nodes}\")\n",
    "print(f\"Number of links\\t{num_links}\")\n",
    "print(f\"Density\\t{density:.4e}\")\n",
    "print(f\"Maximum degree\\t{max_degree}\")\n",
    "print(f\"Average degree\\t{avg_degree:.3f}\")\n",
    "print(f\"Average clustering coefficient\\t{avg_clustering_coeff:.3f}\")\n",
    "print(f\"Number of connected components\\t{num_connected_components}\")\n",
    "print(f\"Diameter\\t{diameter}\")\n",
    "print(f\"Average shortest path length\\t{avg_shortest_path_length:.3f}\")"
   ],
   "id": "2317a6ace05a1697",
   "outputs": [
    {
     "name": "stdout",
     "output_type": "stream",
     "text": [
      "Property\tValue\n",
      "Number of nodes\t13478\n",
      "Number of links\t16922\n",
      "Density\t1.8632e-04\n",
      "Maximum degree\t16\n",
      "Average degree\t2.511\n",
      "Average clustering coefficient\t0.111\n",
      "Number of connected components\t1\n",
      "Diameter\t147\n",
      "Average shortest path length\t49.505\n"
     ]
    }
   ],
   "execution_count": 3
  },
  {
   "metadata": {
    "ExecuteTime": {
     "end_time": "2025-03-28T03:53:27.172756Z",
     "start_time": "2025-03-28T03:53:25.134585Z"
    }
   },
   "cell_type": "code",
   "source": [
    "distances_upper = sp.load_npz(\"../data/processed/distances.npz\").toarray()\n",
    "distances = distances_upper + distances_upper.T  # 恢复对称性\n",
    "print(\"distances:\", distances.shape)\n",
    "print(\"-\" * 20)\n",
    "\n",
    "adj_sparse = sp.load_npz(\"../data/processed/adj_sparse.npz\")\n",
    "print(\"邻接矩阵 adj_sparse:\", adj_sparse.shape)\n",
    "print(\"-\" * 20)\n",
    "\n",
    "B1 = sp.load_npz(\"../data/processed/B1.npz\")\n",
    "print(\"节点-边关联矩阵 B1:\", B1.shape)\n",
    "print(\"-\" * 20)\n",
    "\n",
    "L1_tilde = sp.load_npz(\"../data/processed/L1_tilde.npz\")\n",
    "# L1_tilde = torch.tensor(L1_tilde.toarray(), dtype=torch.float32)  # 转换为密集矩阵\n",
    "print(\"Hodge 1-Laplacian 矩阵 L1_tilde:\", L1_tilde.shape)\n",
    "print(\"-\" * 20)\n",
    "\n",
    "X = np.load(\"../data/processed/X.npy\", allow_pickle=True)\n",
    "print(\"X:\", X.shape)"
   ],
   "id": "8d820e8f0d3ed4b8",
   "outputs": [
    {
     "name": "stdout",
     "output_type": "stream",
     "text": [
      "distances: (13478, 13478)\n",
      "--------------------\n",
      "邻接矩阵 adj_sparse: (13478, 13478)\n",
      "--------------------\n",
      "节点-边关联矩阵 B1: (13478, 16922)\n",
      "--------------------\n",
      "Hodge 1-Laplacian 矩阵 L1_tilde: (16922, 16922)\n",
      "--------------------\n",
      "X: (13478, 5)\n"
     ]
    }
   ],
   "execution_count": 4
  },
  {
   "metadata": {},
   "cell_type": "code",
   "outputs": [],
   "execution_count": null,
   "source": "",
   "id": "23b374c31360b5"
  }
 ],
 "metadata": {
  "kernelspec": {
   "display_name": "Python 3",
   "language": "python",
   "name": "python3"
  },
  "language_info": {
   "codemirror_mode": {
    "name": "ipython",
    "version": 2
   },
   "file_extension": ".py",
   "mimetype": "text/x-python",
   "name": "python",
   "nbconvert_exporter": "python",
   "pygments_lexer": "ipython2",
   "version": "2.7.6"
  }
 },
 "nbformat": 4,
 "nbformat_minor": 5
}
